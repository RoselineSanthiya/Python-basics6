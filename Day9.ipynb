{
  "nbformat": 4,
  "nbformat_minor": 0,
  "metadata": {
    "colab": {
      "provenance": []
    },
    "kernelspec": {
      "name": "python3",
      "display_name": "Python 3"
    },
    "language_info": {
      "name": "python"
    }
  },
  "cells": [
    {
      "cell_type": "code",
      "execution_count": null,
      "metadata": {
        "colab": {
          "base_uri": "https://localhost:8080/"
        },
        "id": "pRtydx4KpI1X",
        "outputId": "53e96c47-d952-4906-ea12-6cf6db63781b"
      },
      "outputs": [
        {
          "output_type": "stream",
          "name": "stdout",
          "text": [
            "x is greater than y\n"
          ]
        }
      ],
      "source": [
        "x=10\n",
        "y=20\n",
        "if(x>y):\n",
        "   print (\"x is less than y\")\n",
        "else:\n",
        "    print (\"x is greater than y\")"
      ]
    },
    {
      "cell_type": "code",
      "source": [
        "name=\"tom\"\n",
        "name.upper()\n",
        "not name.isalpha()"
      ],
      "metadata": {
        "colab": {
          "base_uri": "https://localhost:8080/"
        },
        "id": "fF2b-zD2pkHG",
        "outputId": "d18b5945-2cd6-44ab-ca5c-ae88d5094869"
      },
      "execution_count": null,
      "outputs": [
        {
          "output_type": "execute_result",
          "data": {
            "text/plain": [
              "False"
            ]
          },
          "metadata": {},
          "execution_count": 4
        }
      ]
    },
    {
      "cell_type": "code",
      "source": [
        "name=\"coffee\"\n",
        "name.center(10)"
      ],
      "metadata": {
        "colab": {
          "base_uri": "https://localhost:8080/",
          "height": 35
        },
        "id": "Pne4LBiVqBqK",
        "outputId": "1eba6082-c111-49b1-f0e7-fc54e24e0573"
      },
      "execution_count": null,
      "outputs": [
        {
          "output_type": "execute_result",
          "data": {
            "text/plain": [
              "'  coffee  '"
            ],
            "application/vnd.google.colaboratory.intrinsic+json": {
              "type": "string"
            }
          },
          "metadata": {},
          "execution_count": 5
        }
      ]
    },
    {
      "cell_type": "code",
      "source": [
        "A=int(input(\"enter 1st int:\"))\n",
        "B=int(input (\"enter 2nd int:\"))"
      ],
      "metadata": {
        "colab": {
          "base_uri": "https://localhost:8080/"
        },
        "id": "1BMYYxMAuHfM",
        "outputId": "b450850f-46c5-44c7-87e8-b06509ee54cd"
      },
      "execution_count": null,
      "outputs": [
        {
          "name": "stdout",
          "output_type": "stream",
          "text": [
            "enter 1st int:60\n",
            "enter 2nd int:100\n"
          ]
        }
      ]
    },
    {
      "cell_type": "code",
      "source": [
        "if(A>10 and B<50):\n",
        "   C=(A-B)*(A+B)\n",
        "   print (\"the result is\",C)"
      ],
      "metadata": {
        "id": "qxgKN6Gdwl0E"
      },
      "execution_count": null,
      "outputs": []
    },
    {
      "cell_type": "code",
      "source": [
        "a=50\n",
        "if a>=0:\n",
        "   print (a,\"is 0 or +ve no\")\n",
        "else:\n",
        "   print (a,\"is -ve no\")"
      ],
      "metadata": {
        "colab": {
          "base_uri": "https://localhost:8080/"
        },
        "id": "MIMZpxCVystu",
        "outputId": "f2eb882c-2a9e-432b-ff4c-518010b8ed3e"
      },
      "execution_count": null,
      "outputs": [
        {
          "output_type": "stream",
          "name": "stdout",
          "text": [
            "50 is 0 or +ve no\n"
          ]
        }
      ]
    },
    {
      "cell_type": "code",
      "source": [
        "x=y=z=0\n",
        "x=int(input (\"enter 1st no\"))\n",
        "y=int (input (\"enter 2nd no\"))\n",
        "z=int (input (\"enter 3rd no\"))\n",
        "Max=x\n",
        "if y>max:\n",
        "   Max=y\n",
        "if z>max:\n",
        "   Max=z\n",
        "print (\"largest no is\",max)"
      ],
      "metadata": {
        "id": "jFeEXDZIzUX9"
      },
      "execution_count": null,
      "outputs": []
    },
    {
      "cell_type": "code",
      "source": [
        "sum1=sum2=0\n",
        "num1=int(input (\"enter no 1:\"))\n",
        "num2=int(input(\"enter no 2:\"))\n",
        "num3=int(input (\"enter no 3:\"))\n",
        "sum=num1+num1+num2\n",
        "if num1!= num1 and num2!=num3:\n",
        "   sum2+=num1\n",
        "if num2!=num1 and num2!=num3:\n",
        "   sum2+=num2\n",
        "if num3!=num1 and num3!=num2:\n",
        "   sum2+=num3\n",
        "print (\"nos are\",num1,num2,num3)\n",
        "print (\"sum of 3 gn nos is\",sum1)\n",
        "print (\"sum of non-duplicate nos is\",sum2)"
      ],
      "metadata": {
        "colab": {
          "base_uri": "https://localhost:8080/"
        },
        "id": "cka6KC6J1JqN",
        "outputId": "05758039-4db7-48f2-ab75-e19aeae0856d"
      },
      "execution_count": null,
      "outputs": [
        {
          "output_type": "stream",
          "name": "stdout",
          "text": [
            "enter no 1:10\n",
            "enter no 2:20\n",
            "enter no 3:30\n",
            "nos are 10 20 30\n",
            "sum of 3 gn nos is 0\n",
            "sum of non-duplicate nos is 50\n"
          ]
        }
      ]
    },
    {
      "cell_type": "code",
      "source": [
        "no1=int(input (\"enter 1st no:\"))\n",
        "no2=int(input (\"enter 2nd no:\"))\n",
        "remainder=no1%no2\n",
        "if remainder==0:\n",
        "   print (no1,\"is divisible by\",no2)\n",
        "else:\n",
        "   print (no1,\"is not divisible by\",no2)"
      ],
      "metadata": {
        "colab": {
          "base_uri": "https://localhost:8080/"
        },
        "id": "5PughlrK6PV_",
        "outputId": "9605e963-572a-46e4-cdf0-25ad109dde8b"
      },
      "execution_count": null,
      "outputs": [
        {
          "output_type": "stream",
          "name": "stdout",
          "text": [
            "enter 1st no:119\n",
            "enter 2nd no:17\n",
            "119 is divisible by 17\n"
          ]
        }
      ]
    },
    {
      "cell_type": "code",
      "source": [
        "print (\"enter 5 nos below\")\n",
        "num1=float (input (\"1st no:\"))\n",
        "num2=float(input (\"2nd no:\"))\n",
        "num3=float(input (\"3rd no:\"))\n",
        "num4=float (input (\"4th no:\"))\n",
        "num5=float (input (\"5th no:\"))\n",
        "divisor=float (input(\"enter divisor no:\"))\n",
        "count=0"
      ],
      "metadata": {
        "id": "4M0VXe7_8X_G"
      },
      "execution_count": null,
      "outputs": []
    },
    {
      "cell_type": "code",
      "source": [
        "sum1=sum2=0\n",
        "num1=int(input (\"enter no1:\"))\n",
        "num2=int(input (\"enter no2:\"))\n",
        "num3=int(input (\"enter no2:\"))\n",
        "sum1=num1+num2+num3\n",
        "if num1==num2:\n",
        "   if num3!=num1:\n",
        "      sum2+=num3\n",
        "else:\n",
        "   if num1==num3:\n",
        "      sum2+=num2\n",
        "  else:\n",
        "     if num2==num3:\n",
        "        sum2+=num1\n",
        "     else:\n",
        "         sum2+=num1+num2+num3\n",
        "print (\"nos are\",num1,num2,num3)\n",
        "print (\"sum of three gn nos is\",sum1)\n",
        "print (\"sum of non-duplicate nos is\",sum2)"
      ],
      "metadata": {
        "id": "UW1oME2TRLLi"
      },
      "execution_count": null,
      "outputs": []
    }
  ]
}